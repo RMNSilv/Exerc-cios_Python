{
 "cells": [
  {
   "cell_type": "markdown",
   "metadata": {},
   "source": [
    "# Practice notebook for univariate analysis using NHANES data\n",
    "\n",
    "This notebook will give you the opportunity to perform some univariate analyses on your own using the NHANES.  These analyses are similar to what was done in the week 2 NHANES case study notebook.\n",
    "\n",
    "You can enter your code into the cells that say \"enter your code here\", and you can type responses to the questions into the cells that say \"Type Markdown and Latex\".\n",
    "\n",
    "Note that most of the code that you will need to write below is very similar to code that appears in the case study notebook.  You will need to edit code from that notebook in small ways to adapt it to the prompts below.\n",
    "\n",
    "To get started, we will use the same module imports and read the data in the same way as we did in the case study:"
   ]
  },
  {
   "cell_type": "code",
   "execution_count": 2,
   "metadata": {},
   "outputs": [],
   "source": [
    "%matplotlib inline\n",
    "import matplotlib.pyplot as plt\n",
    "import seaborn as sns\n",
    "import pandas as pd\n",
    "import statsmodels.api as sm\n",
    "import numpy as np\n",
    "\n",
    "dados = pd.read_csv(\"nhanes_2015_2016.csv\")"
   ]
  },
  {
   "cell_type": "code",
   "execution_count": null,
   "metadata": {},
   "outputs": [],
   "source": [
    "print(dados['RIDAGEYR'])"
   ]
  },
  {
   "cell_type": "markdown",
   "metadata": {},
   "source": [
    "## Question 1\n",
    "\n",
    "Relabel the marital status variable [DMDMARTL](https://wwwn.cdc.gov/Nchs/Nhanes/2015-2016/DEMO_I.htm#DMDMARTL) to have brief but informative character labels.  Then construct a frequency table of these values for all people, then for women only, and for men only.  Then construct these three frequency tables using only people whose age is between 30 and 40."
   ]
  },
  {
   "cell_type": "code",
   "execution_count": 10,
   "metadata": {},
   "outputs": [
    {
     "data": {
      "text/plain": [
       "Married                0.484743\n",
       "Never Married          0.175065\n",
       "Divorced               0.100959\n",
       "Living with partner    0.091892\n",
       "Widowed                0.069050\n",
       "Missing                0.045510\n",
       "Separeted              0.032432\n",
       "Refused                0.000349\n",
       "Name: estadocivil, dtype: float64"
      ]
     },
     "execution_count": 10,
     "metadata": {},
     "output_type": "execute_result"
    }
   ],
   "source": [
    "# insert your code here\n",
    "dados['estadocivil'] = dados.DMDMARTL.replace({1:\"Married\", 2:\"Widowed\", 3:\"Divorced\", 4:\"Separeted\",5:\"Never Married\", \n",
    "                                       6:\"Living with partner\",77:\"Refused\",99:\"Don't Know\"})\n",
    "\n",
    "dados[\"estadocivil\"] = dados.estadocivil.fillna(\"Missing\")\n",
    "\n",
    "x = dados.estadocivil.value_counts()\n",
    "x/x.sum()"
   ]
  },
  {
   "cell_type": "code",
   "execution_count": 6,
   "metadata": {},
   "outputs": [],
   "source": [
    "dados['genero'] = dados.RIAGENDR.replace({1:\"Male\",2:\"Female\"})"
   ]
  },
  {
   "cell_type": "code",
   "execution_count": 11,
   "metadata": {},
   "outputs": [
    {
     "data": {
      "text/plain": [
       "Married                0.535339\n",
       "Never Married          0.175426\n",
       "Living with partner    0.096049\n",
       "Divorced               0.083001\n",
       "Missing                0.048931\n",
       "Widowed                0.036245\n",
       "Separeted              0.024647\n",
       "Refused                0.000362\n",
       "Name: estadocivil, dtype: float64"
      ]
     },
     "execution_count": 11,
     "metadata": {},
     "output_type": "execute_result"
    }
   ],
   "source": [
    "daHm=dados[dados['genero']==\"Male\"]\n",
    "\n",
    "y=daHm.estadocivil.value_counts()\n",
    "y/y.sum()"
   ]
  },
  {
   "cell_type": "code",
   "execution_count": 12,
   "metadata": {},
   "outputs": [
    {
     "data": {
      "text/plain": [
       "Married                0.437836\n",
       "Never Married          0.174731\n",
       "Divorced               0.117608\n",
       "Widowed                0.099462\n",
       "Living with partner    0.088038\n",
       "Missing                0.042339\n",
       "Separeted              0.039651\n",
       "Refused                0.000336\n",
       "Name: estadocivil, dtype: float64"
      ]
     },
     "execution_count": 12,
     "metadata": {},
     "output_type": "execute_result"
    }
   ],
   "source": [
    "daMl=dados[dados['genero']==\"Female\"]\n",
    "\n",
    "z=daMl.estadocivil.value_counts()\n",
    "z/z.sum()"
   ]
  },
  {
   "cell_type": "code",
   "execution_count": 13,
   "metadata": {},
   "outputs": [
    {
     "data": {
      "text/plain": [
       "Married                0.545809\n",
       "Never Married          0.211501\n",
       "Living with partner    0.139376\n",
       "Divorced               0.068226\n",
       "Separeted              0.029240\n",
       "Widowed                0.004873\n",
       "Refused                0.000975\n",
       "Name: estadocivil, dtype: float64"
      ]
     },
     "execution_count": 13,
     "metadata": {},
     "output_type": "execute_result"
    }
   ],
   "source": [
    "daTds=dados[dados['RIDAGEYR'].between(30,40)]\n",
    "\n",
    "w=daTds.estadocivil.value_counts()\n",
    "w/w.sum()"
   ]
  },
  {
   "cell_type": "code",
   "execution_count": 18,
   "metadata": {},
   "outputs": [
    {
     "data": {
      "text/plain": [
       "Married                0.535714\n",
       "Never Married          0.218045\n",
       "Living with partner    0.122180\n",
       "Divorced               0.086466\n",
       "Separeted              0.033835\n",
       "Widowed                0.003759\n",
       "Name: estadocivil, dtype: float64"
      ]
     },
     "execution_count": 18,
     "metadata": {},
     "output_type": "execute_result"
    }
   ],
   "source": [
    "daTds=dados[dados['RIDAGEYR'].between(30,40)]\n",
    "\n",
    "damlh= daTds[daTds['genero']==\"Female\"]\n",
    "u=damlh.estadocivil.value_counts()\n",
    "u/u.sum()"
   ]
  },
  {
   "cell_type": "code",
   "execution_count": 20,
   "metadata": {},
   "outputs": [
    {
     "data": {
      "text/plain": [
       "Married                0.556680\n",
       "Never Married          0.204453\n",
       "Living with partner    0.157895\n",
       "Divorced               0.048583\n",
       "Separeted              0.024291\n",
       "Widowed                0.006073\n",
       "Refused                0.002024\n",
       "Name: estadocivil, dtype: float64"
      ]
     },
     "execution_count": 20,
     "metadata": {},
     "output_type": "execute_result"
    }
   ],
   "source": [
    "daTds=dados[dados['RIDAGEYR'].between(30,40)]\n",
    "\n",
    "dahms= daTds[daTds['genero']==\"Male\"]\n",
    "m=dahms.estadocivil.value_counts()\n",
    "m/m.sum()"
   ]
  },
  {
   "cell_type": "markdown",
   "metadata": {},
   "source": [
    "__Q1a.__ Briefly comment on some of the differences that you observe between the distribution of marital status between women and men, for people of all ages."
   ]
  },
  {
   "cell_type": "raw",
   "metadata": {},
   "source": [
    "Uma das principais diferenças observadas nas distribuições dos estados civis é a posição ocupada pelos viúvos, pois entre as mulheres há uma maior proporção onde elas representam cerca de 10% delas, enquanto que entre os homens a proporção é de aproximadamente 4% e no geral 7%"
   ]
  },
  {
   "cell_type": "markdown",
   "metadata": {},
   "source": [
    "__Q1b.__ Briefly comment on the differences that you observe between the distribution of marital status states for women between the overall population, and for women between the ages of 30 and 40."
   ]
  },
  {
   "cell_type": "raw",
   "metadata": {},
   "source": [
    "Entre essas duas distribuições podemos observar uma maior proporção de mulheres tanto casadas como das que nunca casaram entre as mulheres com idade de 30 a 40 anos"
   ]
  },
  {
   "cell_type": "markdown",
   "metadata": {},
   "source": [
    "__Q1c.__ Repeat part b for the men."
   ]
  },
  {
   "cell_type": "raw",
   "metadata": {},
   "source": [
    "O mesmo podemos observar entre os homens com idade de 30 a 40 anos, isto é, maior proporção de casados e dos que nunca casaram."
   ]
  },
  {
   "cell_type": "markdown",
   "metadata": {},
   "source": [
    "## Question 2\n",
    "\n",
    "Restricting to the female population, stratify the subjects into age bands no wider than ten years, and construct the distribution of marital status within each age band.  Within each age band, present the distribution in terms of proportions that must sum to 1."
   ]
  },
  {
   "cell_type": "code",
   "execution_count": 35,
   "metadata": {},
   "outputs": [
    {
     "data": {
      "text/plain": [
       "count    2976.000000\n",
       "mean       47.793011\n",
       "std        18.299419\n",
       "min        18.000000\n",
       "25%        32.000000\n",
       "50%        47.000000\n",
       "75%        62.000000\n",
       "max        80.000000\n",
       "Name: RIDAGEYR, dtype: float64"
      ]
     },
     "execution_count": 35,
     "metadata": {},
     "output_type": "execute_result"
    }
   ],
   "source": [
    "# insert your code here\n",
    "# estes comandos abaixo foram realizados a fim de conhecer as principais estatísticas dos dados\n",
    "\n",
    "mulhs = dados[dados['genero']==\"Female\"]\n",
    "\n",
    "mulhs.RIDAGEYR.dropna().describe()"
   ]
  },
  {
   "cell_type": "code",
   "execution_count": 45,
   "metadata": {},
   "outputs": [
    {
     "name": "stdout",
     "output_type": "stream",
     "text": [
      "estadocivil  Divorced  Living with partner  Married  Missing  Never Married  Refused  Separeted  Widowed\n",
      "agegrp                                                                                                  \n",
      "(18, 20]          NaN                0.084    0.011    0.589          0.316      NaN        NaN      NaN\n",
      "(20, 30]        0.021                0.206    0.305      NaN          0.446      NaN      0.021      NaN\n",
      "(30, 40]        0.091                0.120    0.544      NaN          0.205      NaN      0.036    0.004\n",
      "(40, 50]        0.137                0.074    0.574      NaN          0.125      NaN      0.066    0.024\n",
      "(50, 60]        0.177                0.068    0.547      NaN          0.089    0.002      0.057    0.060\n",
      "(60, 70]        0.193                0.043    0.481      NaN          0.086      NaN      0.050    0.147\n",
      "(70, 80]        0.144                0.007    0.317      NaN          0.051      NaN      0.020    0.461\n"
     ]
    }
   ],
   "source": [
    "# agrupamento dos dados conforme intervalos de dados\n",
    "\n",
    "mulhs[\"agegrp\"]= pd.cut(dados.RIDAGEYR, [18, 20, 30, 40, 50, 60, 70, 80])\n",
    "\n",
    "\n",
    "a = mulhs.groupby(\"agegrp\")[\"estadocivil\"].value_counts()\n",
    "a = a.unstack()\n",
    "a = a.apply(lambda x: x/x.sum(), axis=1)\n",
    "print(a.to_string(float_format=\"%.3f\"))"
   ]
  },
  {
   "cell_type": "code",
   "execution_count": null,
   "metadata": {},
   "outputs": [],
   "source": []
  },
  {
   "cell_type": "markdown",
   "metadata": {},
   "source": [
    "__Q2a.__ Comment on the trends that you see in this series of marginal distributions."
   ]
  },
  {
   "cell_type": "raw",
   "metadata": {},
   "source": [
    "Principais tendências observadas é a redução daquelas que nunca casaram, conforme o aumento na idade. Outro ponto é \n",
    "o aumento de viúvas, também com o aumento da idade. Assim como, até que de certa forma esperada, uma maior proporção de \n",
    "parceiros morando juntos na faixa de idades de 20 a 30 anos."
   ]
  },
  {
   "cell_type": "markdown",
   "metadata": {},
   "source": [
    "__Q2b.__ Repeat the construction for males."
   ]
  },
  {
   "cell_type": "code",
   "execution_count": null,
   "metadata": {},
   "outputs": [],
   "source": [
    "# insert your code here\n",
    "\n",
    "hmns = dados[dados['genero']==\"Male\""
   ]
  },
  {
   "cell_type": "raw",
   "metadata": {},
   "source": []
  },
  {
   "cell_type": "markdown",
   "metadata": {},
   "source": [
    "## Question 3\n",
    "\n",
    "Construct a histogram of the distribution of heights using the BMXHT variable in the NHANES sample."
   ]
  },
  {
   "cell_type": "code",
   "execution_count": 47,
   "metadata": {},
   "outputs": [
    {
     "data": {
      "text/plain": [
       "<matplotlib.axes._subplots.AxesSubplot at 0x7fe5dcdb4550>"
      ]
     },
     "execution_count": 47,
     "metadata": {},
     "output_type": "execute_result"
    },
    {
     "data": {
      "image/png": "[encoded data removed]",
      "text/plain": [
       "<Figure size 432x288 with 1 Axes>"
      ]
     },
     "metadata": {},
     "output_type": "display_data"
    }
   ],
   "source": [
    "# insert your code here\n",
    "\n",
    "sns.distplot(dados.BMXWT.dropna())"
   ]
  },
  {
   "cell_type": "markdown",
   "metadata": {},
   "source": [
    "__Q3a.__ Use the `bins` argument to [distplot](https://seaborn.pydata.org/generated/seaborn.distplot.html) to produce histograms with different numbers of bins.  Assess whether the default value for this argument gives a meaningful result, and comment on what happens as the number of bins grows excessively large or excessively small. "
   ]
  },
  {
   "cell_type": "raw",
   "metadata": {},
   "source": [
    "sns.distplot(dados.BMXWT.dropna(),200)\n",
    "\n",
    "#Com o argumento bins definido de forma padrão, o gráfico apresenta um resultado de forma significativa e conforme se aumenta\n",
    "#o número de compartimentos, mais estreitos eles ficam."
   ]
  },
  {
   "cell_type": "markdown",
   "metadata": {},
   "source": [
    "__Q3b.__ Make separate histograms for the heights of women and men, then make a side-by-side boxplot showing the heights of women and men."
   ]
  },
  {
   "cell_type": "code",
   "execution_count": null,
   "metadata": {},
   "outputs": [],
   "source": [
    "# insert your code here\n",
    "\n",
    "sns.distplot(mulhs.BMXWT.dropna())"
   ]
  },
  {
   "cell_type": "code",
   "execution_count": null,
   "metadata": {},
   "outputs": [],
   "source": [
    "sns.distplot(hmns.BMXWT.dropna())"
   ]
  },
  {
   "cell_type": "code",
   "execution_count": null,
   "metadata": {},
   "outputs": [],
   "source": [
    "sns.boxplot(x = dados[\"BMXWT\"], y = dados[\"genero\"])"
   ]
  },
  {
   "cell_type": "markdown",
   "metadata": {},
   "source": [
    "__Q3c.__ Comment on what features, if any are not represented clearly in the boxplots, and what features, if any, are easier to see in the boxplots than in the histograms."
   ]
  },
  {
   "cell_type": "raw",
   "metadata": {},
   "source": [
    "As características que podemos observar de forma mais clara nos boxplots é a mediana das alturas, onde das mulheres são menores \n",
    "em relação aos homens, não apenas a mediana, mas também, o intervalo delas."
   ]
  }
 ],
 "metadata": {
  "kernelspec": {
   "display_name": "Python 3",
   "language": "python",
   "name": "python3"
  },
  "language_info": {
   "codemirror_mode": {
    "name": "ipython",
    "version": 3
   },
   "file_extension": ".py",
   "mimetype": "text/x-python",
   "name": "python",
   "nbconvert_exporter": "python",
   "pygments_lexer": "ipython3",
   "version": "3.8.8"
  }
 },
 "nbformat": 4,
 "nbformat_minor": 2
}
